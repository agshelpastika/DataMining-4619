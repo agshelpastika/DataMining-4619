{
 "cells": [
  {
   "cell_type": "code",
   "execution_count": 1,
   "id": "6f521bef",
   "metadata": {},
   "outputs": [],
   "source": [
    "import numpy as np"
   ]
  },
  {
   "cell_type": "code",
   "execution_count": 4,
   "id": "2312ce34",
   "metadata": {},
   "outputs": [],
   "source": [
    "def forwardPass(inputs, weight, bias):\n",
    "  w_sum = np.dot(inputs, weight) + bias\n",
    "\n",
    "  # Linear Activation f(x) = x\n",
    "  act = w_sum\n",
    "\n",
    "  return act"
   ]
  },
  {
   "cell_type": "code",
   "execution_count": 6,
   "id": "471b1094",
   "metadata": {},
   "outputs": [],
   "source": [
    "# Pre-Trained Weights & Biases after Training\n",
    "W = np.array([[2.99999928]])\n",
    "b = np.array([1.99999976])"
   ]
  },
  {
   "cell_type": "code",
   "execution_count": 7,
   "id": "12f18056",
   "metadata": {},
   "outputs": [],
   "source": [
    "# Initialize Input Data\n",
    "inputs = np.array([[7], [8], [9], [10]])"
   ]
  },
  {
   "cell_type": "code",
   "execution_count": 8,
   "id": "10028d4b",
   "metadata": {},
   "outputs": [
    {
     "name": "stdout",
     "output_type": "stream",
     "text": [
      "Output Layer Output (Linear)\n",
      "===============================\n",
      "[[22.99999472]\n",
      " [25.999994  ]\n",
      " [28.99999328]\n",
      " [31.99999256]] \n",
      "\n"
     ]
    },
    {
     "data": {
      "text/plain": [
       "'\\n[[22.99999472]\\n [25.999994]\\n [28.99999328]\\n [31.99999256]]\\n'"
      ]
     },
     "execution_count": 8,
     "metadata": {},
     "output_type": "execute_result"
    }
   ],
   "source": [
    "# Output of Output Layer\n",
    "o_out = forwardPass(inputs, W, b)\n",
    "\n",
    "print('Output Layer Output (Linear)')\n",
    "print('===============================')\n",
    "print(o_out, \"\\n\")\n",
    "\n",
    "\"\"\"\n",
    "[[22.99999472]\n",
    " [25.999994]\n",
    " [28.99999328]\n",
    " [31.99999256]]\n",
    "\"\"\""
   ]
  },
  {
   "cell_type": "code",
   "execution_count": null,
   "id": "9ff834cd",
   "metadata": {},
   "outputs": [],
   "source": []
  }
 ],
 "metadata": {
  "kernelspec": {
   "display_name": "Python 3 (ipykernel)",
   "language": "python",
   "name": "python3"
  },
  "language_info": {
   "codemirror_mode": {
    "name": "ipython",
    "version": 3
   },
   "file_extension": ".py",
   "mimetype": "text/x-python",
   "name": "python",
   "nbconvert_exporter": "python",
   "pygments_lexer": "ipython3",
   "version": "3.9.7"
  }
 },
 "nbformat": 4,
 "nbformat_minor": 5
}
